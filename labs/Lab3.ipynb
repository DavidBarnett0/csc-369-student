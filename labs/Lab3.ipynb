{
 "cells": [
  {
   "cell_type": "markdown",
   "metadata": {
    "slideshow": {
     "slide_type": "slide"
    }
   },
   "source": [
    "# Lab 3 - Spark and Databricks\n",
    "\n",
    "Please review Lab 1 and Lab 2 before proceeding. We will focus on the word counting problem first. Finally, we will move on to a new example using the same dataset. We will then write a function that allows a user to extract the books with the highest count of a list of words.\n",
    "\n",
    "While you could wrangle your way on this lab using my server, you are much better off heading over to https://community.cloud.databricks.com/. Please do so :)"
   ]
  },
  {
   "cell_type": "markdown",
   "metadata": {},
   "source": [
    "I've noticed during interactions that some folks are skipping the line below. It is my fault for not explaining it. In Python when you import a file it is never reloaded even if the contents change on disk. If you run the cell below before an import, then it will reload automatically for you."
   ]
  },
  {
   "cell_type": "code",
   "execution_count": 1,
   "metadata": {
    "slideshow": {
     "slide_type": "skip"
    }
   },
   "outputs": [],
   "source": [
    "%load_ext autoreload\n",
    "%autoreload 2"
   ]
  },
  {
   "cell_type": "code",
   "execution_count": 2,
   "metadata": {
    "slideshow": {
     "slide_type": "skip"
    }
   },
   "outputs": [],
   "source": [
    "# make sure your run the cell above before running this\n",
    "import Lab3_helper"
   ]
  },
  {
   "cell_type": "markdown",
   "metadata": {},
   "source": [
    "## Spark\n",
    "There is a lot to unpack when being introduced to Spark and Hadoop. We are going to do a little bit at a time."
   ]
  },
  {
   "cell_type": "markdown",
   "metadata": {},
   "source": [
    "### Databricks\n",
    "\n",
    "You are going to need to pull data into the distributed filesystem available to you on Databricks. To do this you need to do the following:\n",
    "1. Create a cluster\n",
    "2. Create a notebook for you to do the lab\n",
    "3. You'll need to run the code below in order to get the books onto your system. It downloads a bunch of books into databricks for you. It puts them in dbfs:/data/gutenberg. Databricks provides all kinds of different mechanisms to get data into the cluster. Here is just one way."
   ]
  },
  {
   "cell_type": "markdown",
   "metadata": {},
   "source": [
    "    \n",
    "```python\n",
    "dbutils.fs.mkdirs(\"dbfs:/data/gutenberg\")\n",
    "\n",
    "import urllib.request\n",
    "urllib.request.urlretrieve(\"https://raw.githubusercontent.com/anderson-github-classroom/csc-369-student/main/data/gutenberg/order.txt\",\"/tmp/order.txt\")\n",
    "lines = open('/tmp/order.txt').read().split(\"\\n\")\n",
    "for line in lines:\n",
    "  try:\n",
    "    urllib.request.urlretrieve(f\"https://raw.githubusercontent.com/anderson-github-classroom/csc-369-student/main/data/gutenberg/{line}-0.txt\",f\"/tmp/{line}-0.txt\")\n",
    "    dbutils.fs.mv(f\"file:/tmp/{line}-0.txt\",f\"dbfs:/data/gutenberg/{line}-0.txt\")\n",
    "  except: pass\n",
    "```"
   ]
  },
  {
   "cell_type": "markdown",
   "metadata": {},
   "source": [
    "You can check out what is in a directory using:"
   ]
  },
  {
   "cell_type": "markdown",
   "metadata": {},
   "source": [
    "```python\n",
    " dbutils.fs.ls(\"dbfs:/data/gutenberg\")\n",
    "```"
   ]
  },
  {
   "cell_type": "markdown",
   "metadata": {},
   "source": [
    "The code for counting words from a single file is very much available on the internet :) One such version is the following:\n",
    "\n",
    "```python\n",
    "from operator import add\n",
    "\n",
    "lines = sc.textFile(\"dbfs:/data/gutenberg/1080-0.txt\") # read the file into the cluster\n",
    "\n",
    "counts = lines.flatMap(lambda x: x.split(' ')) \\\n",
    "              .map(lambda x: (x, 1)) \\\n",
    "              .reduceByKey(add)\n",
    "output = counts.collect()\n",
    "```"
   ]
  },
  {
   "cell_type": "markdown",
   "metadata": {},
   "source": [
    "One line at a time. The first line of interest is\n",
    "\n",
    "```python\n",
    "lines = sc.textFile(\"dbfs:/data/gutenberg/1080-0.txt\") # read the file into the cluster\n",
    "```\n",
    "\n",
    "One of the variables available to you in a databricks notebook is the <a href=\"https://spark.apache.org/docs/latest/api/java/org/apache/spark/SparkContext.html#:~:text=Main%20entry%20point%20for%20Spark,before%20creating%20a%20new%20one.\">Spark Context</a> (``sc``). This context allows us to interact with a Spark cluster you have started. Databricks handles all of this in the background. The string we pass has an important portion: \"dbfs\". This tells Spark we are going to load a text file.\n",
    "\n",
    "The next portion to consider is flatMap. \n",
    "\n",
    "> PySpark flatMap() is a transformation operation that flattens the RDD/DataFrame (array/map DataFrame columns) after applying the function on every element and returns a new PySpark RDD/DataFrame. In this article, you will learn the syntax and usage of the PySpark flatMap() with an example.\n",
    "\n",
    "https://sparkbyexamples.com/pyspark/pyspark-flatmap-transformation/\n",
    "\n",
    "So flatMap is going to act as our \"for\" loop and run the first anonymous function on each line. Pretty reasonable that this is a split. Each line ``x`` is a Python string, and we map it to a list of strings using split. So what about the next line that call ``map``. Why map and not flatMap?\n",
    "\n",
    "> The difference is that the map operation produces one output value for each input value, whereas the flatMap operation produces an arbitrary number (zero or more) values for each input value.\n",
    "\n",
    "So we need flatMap at first because we are mapping one line to many outputs. We just need map for the second because we are changing a string to a tuple consisting of a string and the integer value of 1. Example: ('the',1). This is perhaps one of the least intuitive steps. Why 1? And why a tuple? The tuple is because we have entered a key-value functional programming paradigm. The key is very important because the data will be shuffled according to this key. In other words, all items with the same key will be grouped together. This is important because we want to count the words, so if we make the key equal to the word, then we can sum them up. The 1 is important because this is the value in the key value. We are going to sum or add up the values to get the total count. Thus the anonymous function inside of the map call returns a key and a value. We then reduce these groups that are organized by keys (our words) and then add up all the values. This is what the final line ``reduceByKey(add)`` does for us. \n",
    "\n",
    "Finally, just because we defined counts doesn't mean it actually runs. We need to collect the data in order for it to be executed. This line runs and collects the output:\n",
    "\n",
    "```python\n",
    "output = counts.collect()\n",
    "```"
   ]
  },
  {
   "cell_type": "markdown",
   "metadata": {},
   "source": [
    "## Word Counting\n",
    "Please see previous labs for more information on word counting. "
   ]
  },
  {
   "cell_type": "markdown",
   "metadata": {},
   "source": [
    "**Exercise 1:**\n",
    "\n",
    "Replace the function ``add`` with a function of your own. What are the arguments and what exactly is <a href=\"https://spark.apache.org/docs/latest/api/python/_modules/pyspark/rdd.html#RDD.reduceByKey\">reduceByKey</a> doing? Call this function exercise_1_add and make sure you put it into Lab3_helper.py."
   ]
  },
  {
   "cell_type": "markdown",
   "metadata": {
    "slideshow": {
     "slide_type": "subslide"
    }
   },
   "source": [
    "**Exercise 2:**\n",
    "\n",
    "Write a function that reads all of the books into a single RDD. Call this function exercise_2_load_rdd_all_books and make sure you put it into Lab3_helper.py."
   ]
  },
  {
   "cell_type": "markdown",
   "metadata": {},
   "source": [
    "**Exercise 3:**\n",
    "\n",
    "Let's do something different now :) Not that different. There is a function to read multiple files, ``sc.wholeTextFiles`` this creates a RDD where each book may be processed separately. Use wholeTextFiles and the ``map`` function to return the word counts for each book. Call this function exercise_3_book_word_counts and make sure you put it into Lab3_helper.py."
   ]
  },
  {
   "cell_type": "code",
   "execution_count": null,
   "metadata": {},
   "outputs": [],
   "source": []
  }
 ],
 "metadata": {
  "celltoolbar": "Slideshow",
  "jupytext": {
   "encoding": "# -*- coding: utf-8 -*-",
   "formats": "ipynb,md,py"
  },
  "kernelspec": {
   "display_name": "Python 3",
   "language": "python",
   "name": "python3"
  },
  "language_info": {
   "codemirror_mode": {
    "name": "ipython",
    "version": 3
   },
   "file_extension": ".py",
   "mimetype": "text/x-python",
   "name": "python",
   "nbconvert_exporter": "python",
   "pygments_lexer": "ipython3",
   "version": "3.7.3"
  }
 },
 "nbformat": 4,
 "nbformat_minor": 4
}
